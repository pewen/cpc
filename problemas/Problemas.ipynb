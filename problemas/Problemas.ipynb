{
 "metadata": {
  "name": "",
  "signature": "sha256:65d924d153ad603a01770d2c9b1bf4b80cceb462a24a82cccf475ba1200f0e7d"
 },
 "nbformat": 3,
 "nbformat_minor": 0,
 "worksheets": [
  {
   "cells": [
    {
     "cell_type": "heading",
     "level": 6,
     "metadata": {},
     "source": [
      "Content under Creative Commons Attribution license CC-BY 4.0, code under MIT license (c)2014 Federico Agazzi, Lucas Bellomo, Franco Bellomo"
     ]
    },
    {
     "cell_type": "heading",
     "level": 1,
     "metadata": {},
     "source": [
      "Trabajo en elaboraci\u00f3n. DRAFT"
     ]
    },
    {
     "cell_type": "markdown",
     "metadata": {},
     "source": [
      "#Problemas del curso Python Cient\u00edfico.  \n",
      "##Autores:  \n",
      "* Lic. Federico Agazzi\n",
      "* Lucas Bellomo @LucasEBellomo\n",
      "* Franco Bellomo @fnbellomo\n",
      "\n",
      "Todo el material de este curso (te\u00f3ricos, c\u00f3digos, data input, etc) se encuentran en [https://github.com/fnbellomo/curso_python_cientifico](https://github.com/fnbellomo/curso_python_cientifico) (hay dos _). En particular, los archivos con los datos de entrada estan en el directorio *./data_input/* y el nombre del archivo es *datos_ejercicios_NumEjercicio.txt*. Adem\u00e1s, todas las salidas las guardamos en el directorio *./data_output/*."
     ]
    },
    {
     "cell_type": "code",
     "collapsed": false,
     "input": [
      "from __future__ import division\n",
      "import numpy as np"
     ],
     "language": "python",
     "metadata": {},
     "outputs": [],
     "prompt_number": 1
    },
    {
     "cell_type": "markdown",
     "metadata": {},
     "source": [
      "###1A) C\u00e1lculo de la molaridad de una soluci\u00f3n.  \n",
      "Haciendo uso de Python como una calculadora,  calcular la molaridad (M) de una soluci\u00f3n de soluto A, a partir de los siguientes datos:\n",
      "* m = 5 g\n",
      "* ma = 30 g/mol\n",
      "* v = 2 L"
     ]
    },
    {
     "cell_type": "code",
     "collapsed": false,
     "input": [
      "m = 5\n",
      "ma = 30\n",
      "v = 2\n",
      "\n",
      "molaridad = m/(ma*v)\n",
      "\n",
      "print 'molaridad', molaridad"
     ],
     "language": "python",
     "metadata": {},
     "outputs": [
      {
       "output_type": "stream",
       "stream": "stdout",
       "text": [
        "molaridad 0.0833333333333\n"
       ]
      }
     ],
     "prompt_number": 2
    },
    {
     "cell_type": "markdown",
     "metadata": {},
     "source": [
      "#####1B) Funci\u00f3n molaridad.  \n",
      "Calcular la molaridad de la sustancia con los datos anteriores, pero creando una funci\u00f3n."
     ]
    },
    {
     "cell_type": "code",
     "collapsed": false,
     "input": [
      "def molaridad(m, ma, v):\n",
      "    c = m/(ma*v)\n",
      "    return c\n",
      "\n",
      "molaridad(m, ma, v)"
     ],
     "language": "python",
     "metadata": {},
     "outputs": [
      {
       "metadata": {},
       "output_type": "pyout",
       "prompt_number": 3,
       "text": [
        "0.08333333333333333"
       ]
      }
     ],
     "prompt_number": 3
    },
    {
     "cell_type": "markdown",
     "metadata": {},
     "source": [
      "#####1C) Varios datos iniciales.  \n",
      "Ahora supongamos que tenemos muchos valores de datos iniciales a los cuales les tenemos que calcular su respectiva molaridad. Es decir, que los datos iniciales son vectores de la forma:\n",
      "* m = [5, 7, 12, 4, 9, 5, 4, 3, 8, 10]\n",
      "* ma = [4, 2, 4, 3, 6, 8, 1, 2, 4, 7]\n",
      "* v = [30, 12, 42, 6, 12, 18, 27, 16, 9, 17]  \n",
      "\n",
      "Escribir un c\u00f3digo que nos permita calcular todas estas molaridades, y nos imprima en pantalla cual es la m\u00e1xima con sus respectivos valores iniciales."
     ]
    },
    {
     "cell_type": "code",
     "collapsed": false,
     "input": [
      "#Valores iniciales\n",
      "m_vector = np.array([5, 7, 12, 4, 9, 5, 4, 3, 8, 10])\n",
      "ma_vector = np.array([30, 12, 42, 6, 12, 18, 27, 16, 9, 17])\n",
      "v_vector = np.array([4, 2, 4, 3, 6, 8, 1, 2, 4, 7])\n",
      "c_vector = np.zeros(10)\n",
      "\n",
      "for i in range(len(m_vector)):\n",
      "    c_vector[i] = molaridad(m_vector[i], ma_vector[i], v_vector[i])\n",
      "    \n",
      "#Calculo el valor maximo y su posicion\n",
      "max_c = np.max(c_vector)\n",
      "max_pos = np.argmax(c_vector)\n",
      "print 'Valor maximo: %f con valores m = %d, v = %d, ma = %d' %(max_c, \n",
      "        m_vector[max_pos], v_vector[max_pos], ma_vector[max_pos])"
     ],
     "language": "python",
     "metadata": {},
     "outputs": [
      {
       "output_type": "stream",
       "stream": "stdout",
       "text": [
        "Valor maximo: 0.291667 con valores m = 7, v = 2, ma = 12\n"
       ]
      }
     ],
     "prompt_number": 4
    },
    {
     "cell_type": "markdown",
     "metadata": {},
     "source": [
      "#####1*) Molaridad y combinaciones  \n",
      "A lo largo del curso nos vamos a encontrar con ejercicos con un *. Esto indinca que son de una dificultad mayor siendo un reto interesante (capaz que hasta divertido!).  \n",
      "Supongamos que tenemos los mismos datos iniciales que en el ejercicio anterior, pero con la diferencia que ahora queremos calcular todas las posibles combinaciones entre ellos, y obtener el valor maximo y la combinanci\u00f3n del mismo."
     ]
    },
    {
     "cell_type": "code",
     "collapsed": false,
     "input": [
      "c_vector = np.zeros((100, 10))\n",
      "j = 0\n",
      "for k in range(10):\n",
      "    for h in range(10):\n",
      "        for i in range(10):\n",
      "            c_vector[j, i] = molaridad(m_vector[k], ma_vector[h], v_vector[i])\n",
      "        j = j + 1\n",
      "    \n",
      "max_c = np.max(c_vector)\n",
      "max_pos = np.argmax(c_vector)\n",
      "print 'valor maximo: ', max_c, 'y su posici\u00f3n es', max_pos"
     ],
     "language": "python",
     "metadata": {},
     "outputs": [
      {
       "output_type": "stream",
       "stream": "stdout",
       "text": [
        "valor maximo:  2.0 y su posici\u00f3n es 236\n"
       ]
      }
     ],
     "prompt_number": 5
    },
    {
     "cell_type": "markdown",
     "metadata": {},
     "source": [
      "###2A) Presi\u00f3n de un gas ideal.  \n",
      "Leer los datos de entrada del archivo *datos_ejercicio_2A.txt* que tiene los siguientes datos: n = 1 mol, T = 298 K, v = 5 L, y calcular la presi\u00f3n de un gas ideal.  \n",
      "Guardar la salida en un archivo de texto."
     ]
    },
    {
     "cell_type": "code",
     "collapsed": false,
     "input": [
      "datos = np.loadtxt('data_input/datos_ejercicio_2A.txt')\n",
      "\n",
      "def presion_gas_ideal(moles, temperatura, volumen):\n",
      "    r = 8.314\n",
      "    return (moles * r * temperatura) / volumen\n",
      "\n",
      "salida = []\n",
      "salida.append(presion_gas_ideal(datos[0], datos[1], datos[2]))\n",
      "np.savetxt('data_output/output_2A.txt', salida, fmt='%.4f', header='La presion en atm es:')"
     ],
     "language": "python",
     "metadata": {},
     "outputs": [],
     "prompt_number": 6
    },
    {
     "cell_type": "markdown",
     "metadata": {},
     "source": [
      "#####2B) Importando los datos.\n",
      "Lo mismo que en el caso anteriro, solo que ahora importamos los datos del archivo *datos_ejercicio_2B.py*"
     ]
    },
    {
     "cell_type": "code",
     "collapsed": false,
     "input": [
      "import sys\n",
      "#Tener en cuenta que este path va a variar en otra m\u00e1quina\n",
      "sys.path.append( '/home/franco/MEGAsync/Curso_Python_Cientifico/data_input/' )"
     ],
     "language": "python",
     "metadata": {},
     "outputs": [],
     "prompt_number": 7
    },
    {
     "cell_type": "code",
     "collapsed": false,
     "input": [
      "from datos_ejercicio_2B import *\n",
      "\n",
      "print presion_gas_ideal(n, T, v)"
     ],
     "language": "python",
     "metadata": {},
     "outputs": [
      {
       "output_type": "stream",
       "stream": "stdout",
       "text": [
        "495.5144\n"
       ]
      }
     ],
     "prompt_number": 8
    },
    {
     "cell_type": "markdown",
     "metadata": {},
     "source": [
      "#####3A Grafico de P vs V.  \n",
      "Para n y T igual que el problema anterior, calcue la presi\u00f3n para los siguientes volumens V=1, 2, 3, 4 y 5 L. El archivo de entrada debe contener los volumenes. Graficar."
     ]
    },
    {
     "cell_type": "code",
     "collapsed": false,
     "input": [
      "import matplotlib.pyplot as plt\n",
      "%matplotlib inline"
     ],
     "language": "python",
     "metadata": {},
     "outputs": [],
     "prompt_number": 9
    },
    {
     "cell_type": "code",
     "collapsed": false,
     "input": [
      "datos = np.loadtxt('./data_input/datos_ejercicio_3A.txt')\n",
      "volumenes, mole, temperatua = datos[:, :1], datos[:, 1:2], datos[:, 2:3]\n",
      "presiones = np.zeros_like(volumenes)\n",
      "presiones[:] = presion_gas_ideal(mole[:], temperatua[:], volumenes[:])\n",
      "\n",
      "plt.figure(figsize=(10, 8))\n",
      "plt.plot(presiones, volumenes)\n",
      "plt.title('Presion vs Volumen', fontsize=20)\n",
      "plt.xlabel('$Presion$', fontsize=20)\n",
      "plt.ylabel('$Volumen$', fontsize=20)\n",
      "plt.grid()"
     ],
     "language": "python",
     "metadata": {},
     "outputs": [
      {
       "metadata": {},
       "output_type": "display_data",
       "png": "[encoded data removed]",
       "text": [
        "<matplotlib.figure.Figure at 0x3d3fd90>"
       ]
      }
     ],
     "prompt_number": 10
    },
    {
     "cell_type": "markdown",
     "metadata": {},
     "source": [
      "#####3B Mejores plot\n",
      "Observar que en el plot anterior, la cantidad de distintos volumenes que tomamos son pocos (5) creando los 'picos' en el plot. Realizar el mismo plot, pero tomando ahora m\u00e0s de 50 puntos."
     ]
    },
    {
     "cell_type": "code",
     "collapsed": false,
     "input": [
      "volumen = np.linspace(1, 10)\n",
      "presiones = np.zeros_like(volumen)\n",
      "\n",
      "presiones[:] = presion_gas_ideal(mole[1], temperatua[1], volumen[:])\n",
      "\n",
      "plt.figure(figsize=(10, 8))\n",
      "plt.plot(presiones, volumen)\n",
      "plt.title('Presion vs Volumen', fontsize=20)\n",
      "plt.xlabel('$Presion$', fontsize=20)\n",
      "plt.ylabel('$Volumen$', fontsize=20)\n",
      "plt.grid()"
     ],
     "language": "python",
     "metadata": {},
     "outputs": [
      {
       "metadata": {},
       "output_type": "display_data",
       "png": "[encoded data removed]",
       "text": [
        "<matplotlib.figure.Figure at 0x3d3f6d0>"
       ]
      }
     ],
     "prompt_number": 11
    },
    {
     "cell_type": "markdown",
     "metadata": {},
     "source": [
      "#####3* M\u00e1s Plot  \n",
      "Supongamos ahora que conseguimos varios archivos donde en cada uno estan guardado los valores de presi\u00f3n y volumen para algunas determinadas condiciones. Escribir un c\u00f3digo que nos plotee todos estos archivos y ademas nos escriba un archivo de salida que contenga el nombre del archivo leido y el valor m\u00e1ximo del volumen medido.  \n",
      "Los archivos estan en *./data_input/datos_3*/*  \n",
      "\n",
      "** Trabajando en la solucion en el otro notebook **"
     ]
    },
    {
     "cell_type": "markdown",
     "metadata": {},
     "source": [
      "#####4 Calculo de pH  \n",
      "Determine el $pH$ y $pOH$ de una soluci\u00f3n cuya concentraci\u00f3n de $H+$ es $[H+]=1.2\\times10^{-4}$. El programa debe:\n",
      "* leer $[H+]$ de un archivo\n",
      "* calcular el $pH$ y $pOH$\n",
      "* escribir el $ph$ y $pOH$ en un archivo"
     ]
    },
    {
     "cell_type": "code",
     "collapsed": false,
     "input": [
      "from datos_ejercicio_4 import *\n",
      "\n",
      "#calcula el pH dada una conc. de protones\n",
      "def pH(x):\n",
      "    return -np.log10(x)\n",
      "\n",
      "#calcula el pOH dada una conc de protones\n",
      "def pOH(x):\n",
      "    return 14 - (-np.log10(x))\n",
      "\n",
      "out = []\n",
      "out.append( (H,pH(H),pOH(H)) )\n",
      "np.savetxt( 'data_output/output_4.txt', out, fmt='%.4f' )"
     ],
     "language": "python",
     "metadata": {},
     "outputs": [],
     "prompt_number": 12
    },
    {
     "cell_type": "markdown",
     "metadata": {},
     "source": [
      "#####5 Ley de Arrhenius  \n",
      "La ley de Arrhenius se expresa como  \n",
      "$$ k(T) = A\\exp\\left(-\\dfrac{E_{a}}{RT}\\right) $$\n",
      "Escriba un programa que permita calcular la constante de Arrhenius para $T=298K, R= 8,31 J(K mol)^{-1}, E_{a}= 1,601 kJ.K(mol)^{-1}, A=3,98\\times10^{-3} s^{-1}$"
     ]
    },
    {
     "cell_type": "code",
     "collapsed": false,
     "input": [
      "k = lambda T, A, E_a, R: A*np.exp(-E_a/(R*T))\n",
      "\n",
      "T = 298 #K\n",
      "R = 8.31 #J/(Kmol)\n",
      "E_a = 1.601 #klK/mol\n",
      "A = 3.98*10**(-3) #1/s\n",
      "\n",
      "print k(T, A, E_a, R)"
     ],
     "language": "python",
     "metadata": {},
     "outputs": [
      {
       "output_type": "stream",
       "stream": "stdout",
       "text": [
        "0.00397742772891\n"
       ]
      }
     ],
     "prompt_number": 13
    },
    {
     "cell_type": "markdown",
     "metadata": {},
     "source": [
      "#####6A Factorial (recursivo).  \n",
      "Escribir la funci\u00f3n factorial de forma recursiva, y calcular el $8!$"
     ]
    },
    {
     "cell_type": "code",
     "collapsed": false,
     "input": [
      "def factorial(n):\n",
      "    if n == 0:\n",
      "        return 1\n",
      "    else:\n",
      "        return n * factorial(n-1)\n",
      "    \n",
      "factorial(8)"
     ],
     "language": "python",
     "metadata": {},
     "outputs": [
      {
       "metadata": {},
       "output_type": "pyout",
       "prompt_number": 14,
       "text": [
        "40320"
       ]
      }
     ],
     "prompt_number": 14
    },
    {
     "cell_type": "markdown",
     "metadata": {},
     "source": [
      "#####6B No recursivo.  \n",
      "Volver a escribir la funci\u00f3n factorial, pero sin hacer uso de la recursivedad. Calcular el $8!$"
     ]
    },
    {
     "cell_type": "code",
     "collapsed": false,
     "input": [
      "#Defino la funci\u00f3n factorial\n",
      "def factorial(n):\n",
      "    resultado = 1\n",
      "    for i in range(1, n+1):\n",
      "        resultado = resultado*i\n",
      "        \n",
      "    return resultado\n",
      "        \n",
      "print factorial(8)"
     ],
     "language": "python",
     "metadata": {},
     "outputs": [
      {
       "output_type": "stream",
       "stream": "stdout",
       "text": [
        "40320\n"
       ]
      }
     ],
     "prompt_number": 15
    },
    {
     "cell_type": "markdown",
     "metadata": {},
     "source": [
      "#####7 Sumatoria de una serie."
     ]
    },
    {
     "cell_type": "markdown",
     "metadata": {},
     "source": [
      "#####8 Ecuaci\u00f3n de Clausius-Clapeyron  \n"
     ]
    },
    {
     "cell_type": "markdown",
     "metadata": {},
     "source": [
      "#####10 Dependencia de la FEM de una pila de la temperatura  \n",
      "La FEM de una pila electroqu\u00edmica varia con la temperatura de acuerdo con la ecuaci\u00f3n:  \n",
      "$$ E^{0}(T) = 0.2239 - 6.455\\times10^{-3}\\times(T - 25) - 3.248\\times10^{-6}\\times(T - 25)^{2} + 9.948\\times10^{-9}\\times(T - 25)^{3} $$  \n",
      "donde T es la temperatura en grados cent\u00edgrados.  \n",
      "Calcule $E^{0}$ en el intervalo de temperatura $0-40^{o}C$ con un incremento de temperatura $\\Delta T = 0.1^{o}C$"
     ]
    },
    {
     "cell_type": "code",
     "collapsed": false,
     "input": [
      "#Constantes del problema\n",
      "T0, Tf, delta_T = 0, 40, 0.1  #\u00baC\n",
      "\n",
      "#Vector de temperaturas y el de salida\n",
      "T = np.arange(T0, Tf+delta_T, delta_T)\n",
      "E0_vector = np.zeros(len(T))\n",
      "\n",
      "#Cuenta\n",
      "E0_vector[:] = 0.2239 - 6.455*10**(-3)*(T[:] - 25) - 3.248*10**(-6)*(T[:] - 25)**2 + 9.948*10**(-9)*(T[:] - 25)**3\n",
      "    \n",
      "#Plot\n",
      "plt.figure(figsize=(10,8))\n",
      "plt.plot(T, E0_vector)\n",
      "plt.title('Variacion de la FEM en funcion de la temperatura', fontsize=20)\n",
      "plt.xlabel('$Temperatura(^{o}C)$', fontsize=25)\n",
      "plt.ylabel('$E^{0}$', fontsize=25)\n",
      "plt.grid(1)"
     ],
     "language": "python",
     "metadata": {},
     "outputs": [
      {
       "metadata": {},
       "output_type": "display_data",
       "png": "[encoded data removed]",
       "text": [
        "<matplotlib.figure.Figure at 0x426c210>"
       ]
      }
     ],
     "prompt_number": 16
    },
    {
     "cell_type": "markdown",
     "metadata": {},
     "source": [
      "#####11 Cin\u00e9tica de reacciones consecutivas  \n",
      "Un mecanismo com\u00fan en reacciones complejas es el de las reacciones consecutivas. El caso mas sencillo de este mecanismo es\n",
      "$$ A\\overset{k_{1}}{\\longrightarrow}B\\overset{k_{2}}{\\longrightarrow}C $$  \n",
      "En este mecanismo, las concentraciones de A, B y C var\u00edan en el tiempo de acuerdo  con  \n",
      "$$ [A] = [A]_{0}\\times e^{-k_{1} t} $$  \n",
      "$$ \\left[B\\right]=\\left\\{ \\dfrac{k_{1}}{k_{1}-k_{2}}\\right\\} \\left\\{ e^{-k_{1}t}-e^{-k_{2}t}\\right\\} \\left[A\\right]_{0} $$  \n",
      "$$ [C] = [A]_{0} - [A] - [B] $$  \n",
      "Escriba un c\u00f3digo que calcule $[C]$ con los valores $k_{1} =0.1s^{-1}, k_{2}=0.2s^{-1}, [A]_{0} = 5M, t_{f} = 5s, \\Delta t = 0.1s$:"
     ]
    },
    {
     "cell_type": "code",
     "collapsed": false,
     "input": [
      "A = lambda A0, k1, t: A0*np.exp(-k1*t)\n",
      "B = lambda A0, k1, k2, t: (k1/(k1- k2))*(np.exp(-k1*t) - np.exp(-k2*t))*A0\n",
      "C = lambda A0, k1, k2, t: A0 - A(A0, k1, t) - B(A0, k1, k2, t)\n",
      "\n",
      "t0, tf, delta_t = 0, 5, 0.1\n",
      "A0, k1, k2 = 5, 0.1, 0.2\n",
      "t = np.arange(t0, tf, delta_t)\n",
      "\n",
      "plt.figure(figsize=(10,8))\n",
      "plt.plot(t, C(A0, k1, k2, t))\n",
      "plt.xlabel('$tiempo(s)$', fontsize=25)\n",
      "plt.ylabel('Concentracion de C', fontsize=20)\n",
      "plt.grid(1)"
     ],
     "language": "python",
     "metadata": {},
     "outputs": [
      {
       "metadata": {},
       "output_type": "display_data",
       "png": "[encoded data removed]",
       "text": [
        "<matplotlib.figure.Figure at 0x3fd1410>"
       ]
      }
     ],
     "prompt_number": 17
    },
    {
     "cell_type": "markdown",
     "metadata": {},
     "source": [
      "#####12 Niveles de energ\u00eda de una particula en una caja unidimensional  \n",
      "De acuerdo con la mec\u00e1nica cuantica, los niveles de energ\u00eda de un electr\u00f3n confinados en una caja de potencial unidimencional de longuitud *l* vienen dados por:   \n",
      "$$ E_{n}=\\dfrac{h^{2}n^{2}}{8m_{e}l^{2}} $$  \n",
      "Escribir un programa que calcule la energ\u00eda para $n = (1, 2, 3), h=6.626*10^{-34}Js, m_{e}=9.109*10^{-31}Kg, l = 1*10^{-9}m$"
     ]
    },
    {
     "cell_type": "code",
     "collapsed": false,
     "input": [
      "#Funci\u00f3n\n",
      "energia_n = lambda n, h, m_e, l: (h**2*n**2)/(8*m_e*l**2)\n",
      "\n",
      "#Constantes\n",
      "h = 6.626*10**(-34) #Js\n",
      "m_e = 9.109*10**(-31) #Kg\n",
      "l = 1*10**(-9) #m\n",
      "n = np.arange(1, 4)\n",
      "\n",
      "energia = energia_n(n, h, m_e, l)\n",
      "\n",
      "for i in n:\n",
      "    print 'E',i-1, '=', energia[i-1], 'J'"
     ],
     "language": "python",
     "metadata": {},
     "outputs": [
      {
       "output_type": "stream",
       "stream": "stdout",
       "text": [
        "E 0 = 6.02479361071e-20 J\n",
        "E 1 = 2.40991744429e-19 J\n",
        "E 2 = 5.42231424964e-19 J\n"
       ]
      }
     ],
     "prompt_number": 18
    },
    {
     "cell_type": "code",
     "collapsed": false,
     "input": [
      "#style\n",
      "from IPython.core.display import HTML\n",
      "css_file = 'style/style_ipython_notebook.css'\n",
      "HTML(open(css_file, \"r\").read())"
     ],
     "language": "python",
     "metadata": {},
     "outputs": [
      {
       "html": [
        "<link href='http://fonts.googleapis.com/css?family=Alegreya+Sans:100,300,400,500,700,800,900,100italic,300italic,400italic,500italic,700italic,800italic,900italic' rel='stylesheet' type='text/css'>\n",
        "<link href='http://fonts.googleapis.com/css?family=Arvo:400,700,400italic' rel='stylesheet' type='text/css'>\n",
        "<link href='http://fonts.googleapis.com/css?family=PT+Mono' rel='stylesheet' type='text/css'>\n",
        "<link href='http://fonts.googleapis.com/css?family=Shadows+Into+Light' rel='stylesheet' type='text/css'>\n",
        "<link href='http://fonts.googleapis.com/css?family=Nixie+One' rel='stylesheet' type='text/css'>\n",
        "<style>\n",
        "@font-face {\n",
        "font-family: \"Computer Modern\";\n",
        "src: url('http://mirrors.ctan.org/fonts/cm-unicode/fonts/otf/cmunss.otf');\n",
        "}\n",
        "#notebook_panel { /* main background */\n",
        "background: rgb(245,245,245);\n",
        "} \n",
        "div.cell { /* set cell width */\n",
        "width: 80%;\n",
        "}\n",
        "div #notebook { /* centre the content */\n",
        "background: #fff; /* white background for content */\n",
        "width: 100%;\n",
        "margin: auto;\n",
        "padding-left: 0em;\n",
        "}\n",
        "#notebook li { /* More space between bullet points */\n",
        "margin-top:0.8em;\n",
        "}\n",
        "/* draw border around running cells */\n",
        "div.cell.border-box-sizing.code_cell.running {\n",
        "border: 1px solid #111;\n",
        "}\n",
        "/* Put a solid color box around each cell and its output, visually linking them*/\n",
        "div.cell.code_cell {\n",
        "background-color: rgb(256,256,256);\n",
        "border-radius: 0px;\n",
        "padding: 0.5em;\n",
        "margin-left:1em;\n",
        "margin-top: 1em;\n",
        "}\n",
        "div.text_cell_render{\n",
        "font-family: 'Alegreya Sans' sans-serif;\n",
        "line-height: 140%;\n",
        "font-size: 125%;\n",
        "font-weight: 400;\n",
        "width:800px;\n",
        "margin-left:auto;\n",
        "margin-right:auto;\n",
        "}\n",
        "/* Formatting for header cells */\n",
        ".text_cell_render h1 {\n",
        "font-family: 'Nixie One', serif;\n",
        "font-style:regular;\n",
        "font-weight: 400;\n",
        "font-size: 45pt;\n",
        "line-height: 100%;\n",
        "color: rgb(0,51,102);\n",
        "margin-bottom: 0.5em;\n",
        "margin-top: 0.5em;\n",
        "display: block;\n",
        "}  \n",
        ".text_cell_render h2 {\n",
        "font-family: 'Nixie One', serif;\n",
        "font-weight: 400;\n",
        "font-size: 30pt;\n",
        "line-height: 100%;\n",
        "color: rgb(0,51,102);\n",
        "margin-bottom: 0.1em;\n",
        "margin-top: 0.3em;\n",
        "display: block;\n",
        "}\t\n",
        ".text_cell_render h3 {\n",
        "font-family: 'Nixie One', serif;\n",
        "margin-top:16px;\n",
        "font-size: 22pt;\n",
        "font-weight: 600;\n",
        "margin-bottom: 3px;\n",
        "font-style: regular;\n",
        "color: rgb(102,102,0);\n",
        "}\n",
        ".text_cell_render h4 { /*Use this for captions*/\n",
        "font-family: 'Nixie One', serif;\n",
        "font-size: 14pt;\n",
        "text-align: center;\n",
        "margin-top: 0em;\n",
        "margin-bottom: 2em;\n",
        "font-style: regular;\n",
        "}\n",
        ".text_cell_render h5 { /*Use this for small titles*/\n",
        "font-family: 'Nixie One', sans-serif;\n",
        "font-weight: 400;\n",
        "font-size: 16pt;\n",
        "color: rgb(163,0,0);\n",
        "font-style: italic;\n",
        "margin-bottom: .1em;\n",
        "margin-top: 0.8em;\n",
        "display: block;\n",
        "}\n",
        ".text_cell_render h6 { /*use this for copyright note*/\n",
        "font-family: 'PT Mono', sans-serif;\n",
        "font-weight: 300;\n",
        "font-size: 9pt;\n",
        "line-height: 100%;\n",
        "color: grey;\n",
        "margin-bottom: 1px;\n",
        "margin-top: 1px;\n",
        "}\n",
        ".CodeMirror{\n",
        "font-family: \"PT Mono\";\n",
        "font-size: 90%;\n",
        "}\n",
        "</style>\n",
        "<script>\n",
        "MathJax.Hub.Config({\n",
        "TeX: {\n",
        "extensions: [\"AMSmath.js\"],\n",
        "equationNumbers: { autoNumber: \"AMS\", useLabelIds: true}\n",
        "},\n",
        "tex2jax: {\n",
        "inlineMath: [ ['$','$'], [\"\\\\(\",\"\\\\)\"] ],\n",
        "displayMath: [ ['$$','$$'], [\"\\\\[\",\"\\\\]\"] ]\n",
        "},\n",
        "displayAlign: 'center', // Change this to 'center' to center equations.\n",
        "\"HTML-CSS\": {\n",
        "styles: {'.MathJax_Display': {\"margin\": 4}}\n",
        "}\n",
        "});\n",
        "</script>"
       ],
       "metadata": {},
       "output_type": "pyout",
       "prompt_number": 19,
       "text": [
        "<IPython.core.display.HTML at 0x3d45510>"
       ]
      }
     ],
     "prompt_number": 19
    },
    {
     "cell_type": "code",
     "collapsed": false,
     "input": [],
     "language": "python",
     "metadata": {},
     "outputs": [],
     "prompt_number": 19
    }
   ],
   "metadata": {}
  }
 ]
}